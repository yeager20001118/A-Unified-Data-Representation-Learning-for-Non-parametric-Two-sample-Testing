{
 "cells": [
  {
   "cell_type": "code",
   "execution_count": 2,
   "metadata": {},
   "outputs": [],
   "source": [
    "from mmd_fuse import *\n",
    "import numpy as np\n",
    "import matplotlib.pyplot as plt\n",
    "import pickle"
   ]
  },
  {
   "cell_type": "code",
   "execution_count": 3,
   "metadata": {},
   "outputs": [],
   "source": [
    "def generate_cov_matrix(n_clusters, d):\n",
    "    mu_mx = np.zeros([n_clusters, d])\n",
    "    for i in range(n_clusters):\n",
    "        mu_mx[i] = mu_mx[i] + 0.5*i\n",
    "    sigma_mx_1 = np.eye(d)\n",
    "    sigma_mx_2 = [np.eye(d), np.eye(d)]\n",
    "    sigma_mx_2[0][0, 1] = 0.5\n",
    "    sigma_mx_2[0][1, 0] = 0.5\n",
    "    sigma_mx_2[1][0, 1] = -0.5\n",
    "    sigma_mx_2[1][1, 0] = -0.5\n",
    "\n",
    "    return mu_mx, sigma_mx_1, sigma_mx_2 \n",
    "\n",
    "def sample_hdgm_semi_t2(n_train, n_test, d=10, n_clusters=2, kk=0):\n",
    "    mu_mx, sigma_mx_1, sigma_mx_2 = generate_cov_matrix(n_clusters, d)\n",
    "    \n",
    "    n = n_train + n_test\n",
    "\n",
    "    s1 = np.zeros([n*n_clusters, d])\n",
    "    s2 = np.zeros([n*n_clusters, d])\n",
    "\n",
    "    np.random.seed(seed=1102*kk)\n",
    "    # tr_idx = np.random.choice(n, n_train, replace=False)\n",
    "    # tr_idx = np.tile(tr_idx, n_clusters)\n",
    "    # for i in range(n_clusters):\n",
    "    #     tr_idx[i*n_train:(i+1)*n_train] = tr_idx[i*n_train:(i+1)*n_train] + i*n\n",
    "\n",
    "    tr_idx = np.random.choice(n*n_clusters, n_train*n_clusters, replace=False)\n",
    "    \n",
    "    te_idx = np.delete(np.arange(n*n_clusters), tr_idx)\n",
    "\n",
    "    for i in range(n_clusters):\n",
    "        np.random.seed(seed=1102*kk + i + n)\n",
    "        s1[i*n:(i+1)*n, :] = np.random.multivariate_normal(mu_mx[i], sigma_mx_1, n)\n",
    "        np.random.seed(seed=819*kk + i + n + 1)\n",
    "        s2[i*n:(i+1)*n, :] = np.random.multivariate_normal(mu_mx[i], sigma_mx_2[i], n)\n",
    "\n",
    "    return s1[tr_idx], s1[te_idx], s2[tr_idx], s2[te_idx]\n",
    "    # return s1, None, s2, None\n",
    "\n",
    "def sample_hdgm_semi_t1(n_train, n_test, d=10, n_clusters=2, kk=0):\n",
    "    mu_mx, sigma_mx_1, _ = generate_cov_matrix(n_clusters, d)\n",
    "\n",
    "    n = n_train + n_test\n",
    "\n",
    "    s1 = np.zeros([n*n_clusters, d])\n",
    "    s2 = np.zeros([n*n_clusters, d])\n",
    "\n",
    "    np.random.seed(seed=1102*kk)\n",
    "    # tr_idx = np.random.choice(n, n_train, replace=False)\n",
    "    # tr_idx = np.tile(tr_idx, n_clusters)\n",
    "    # for i in range(n_clusters):\n",
    "    #     tr_idx[i*n_train:(i+1)*n_train] = tr_idx[i*n_train:(i+1)*n_train] + i*n\n",
    "\n",
    "    tr_idx = np.random.choice(n*n_clusters, n_train*n_clusters, replace=False)\n",
    "\n",
    "    te_idx = np.delete(np.arange(n*n_clusters), tr_idx)\n",
    "\n",
    "    for i in range(n_clusters):\n",
    "        np.random.seed(seed=1102*kk + i + n)\n",
    "        s1[i*n:(i+1)*n, :] = np.random.multivariate_normal(mu_mx[i], sigma_mx_1, n)\n",
    "        np.random.seed(seed=819*kk + i + n + 1)\n",
    "        s2[i*n:(i+1)*n, :] = np.random.multivariate_normal(mu_mx[i], sigma_mx_1, n)\n",
    "\n",
    "    return s1[tr_idx], s1[te_idx], s2[tr_idx], s2[te_idx]"
   ]
  },
  {
   "cell_type": "code",
   "execution_count": 4,
   "metadata": {},
   "outputs": [],
   "source": [
    "n_train = 500\n",
    "n_test = 500\n",
    "s1_tr, s1_te, s2_tr, s2_te = sample_hdgm_semi_t2(\n",
    "    n_train, n_test, kk=0)\n",
    "S = np.concatenate((s1_tr, s2_tr), axis=0)"
   ]
  },
  {
   "cell_type": "code",
   "execution_count": 5,
   "metadata": {},
   "outputs": [
    {
     "name": "stdout",
     "output_type": "stream",
     "text": [
      "0.06 0.23748684174075832\n",
      "0.12 0.32496153618543844\n",
      "0.38 0.48538644398046393\n",
      "0.75 0.4330127018922193\n",
      "0.91 0.2861817604250837\n",
      "0.99 0.09949874371066199\n"
     ]
    }
   ],
   "source": [
    "n_list = [125, 250, 500, 750, 1000, 1250]\n",
    "summary = []\n",
    "for n in n_list:\n",
    "    n_train = n\n",
    "    n_test = n\n",
    "\n",
    "    key = random.PRNGKey(42)\n",
    "    outputs = []\n",
    "    for i in range(100):\n",
    "        key, subkey = random.split(key)\n",
    "        s1_tr, s1_te, s2_tr, s2_te = sample_hdgm_semi_t2(\n",
    "            n_train, n_test, kk=subkey)\n",
    "        S1 = np.concatenate((s1_tr, s1_te), axis=0)\n",
    "        S2 = np.concatenate((s2_tr, s2_te), axis=0)\n",
    "        key, subkey = random.split(key)\n",
    "        outputs.append(mmdfuse(S1, S2, subkey))\n",
    "        \n",
    "    print(np.mean(outputs), np.std(outputs))\n",
    "    \n",
    "    summary.append(outputs)\n",
    "    \n"
   ]
  },
  {
   "cell_type": "code",
   "execution_count": 17,
   "metadata": {},
   "outputs": [
    {
     "data": {
      "text/plain": [
       "0.15"
      ]
     },
     "execution_count": 17,
     "metadata": {},
     "output_type": "execute_result"
    }
   ],
   "source": [
    "np.mean(outputs)"
   ]
  },
  {
   "cell_type": "code",
   "execution_count": 7,
   "metadata": {},
   "outputs": [],
   "source": [
    "with open(\"result/mmdfuse_HGDM_baselin_result.pkl\", \"wb\") as f:\n",
    "    pickle.dump(summary, f)"
   ]
  },
  {
   "cell_type": "code",
   "execution_count": 5,
   "metadata": {},
   "outputs": [
    {
     "name": "stdout",
     "output_type": "stream",
     "text": [
      "0.0 0.0\n",
      "0.0 0.0\n",
      "0.0 0.0\n",
      "0.0 0.0\n",
      "0.0 0.0\n",
      "0.0 0.0\n"
     ]
    }
   ],
   "source": [
    "n_list = [125, 250, 500, 750, 1000, 1250]\n",
    "summary = []\n",
    "for n in n_list:\n",
    "    n_train = 500\n",
    "    n_test = 500\n",
    "\n",
    "    key = random.PRNGKey(42)\n",
    "    outputs = []\n",
    "    for i in range(100):\n",
    "        key, subkey = random.split(key)\n",
    "        s1_tr, s1_te, s2_tr, s2_te = sample_hdgm_semi_t1(\n",
    "            n_train, n_test, kk=subkey)\n",
    "        S1 = np.concatenate((s1_tr, s1_te), axis=0)\n",
    "        S2 = np.concatenate((s2_tr, s2_te), axis=0)\n",
    "        key, subkey = random.split(key)\n",
    "        outputs.append(mmdfuse(S1, S2, subkey))\n",
    "        \n",
    "    print(np.mean(outputs), np.std(outputs))\n",
    "    \n",
    "    summary.append(outputs)"
   ]
  },
  {
   "cell_type": "code",
   "execution_count": null,
   "metadata": {},
   "outputs": [],
   "source": []
  }
 ],
 "metadata": {
  "kernelspec": {
   "display_name": "test_jax",
   "language": "python",
   "name": "python3"
  },
  "language_info": {
   "codemirror_mode": {
    "name": "ipython",
    "version": 3
   },
   "file_extension": ".py",
   "mimetype": "text/x-python",
   "name": "python",
   "nbconvert_exporter": "python",
   "pygments_lexer": "ipython3",
   "version": "3.9.18"
  }
 },
 "nbformat": 4,
 "nbformat_minor": 2
}
